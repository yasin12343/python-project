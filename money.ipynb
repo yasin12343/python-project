{
 "cells": [
  {
   "cell_type": "markdown",
   "id": "c235a809-c811-4d4f-8a68-f50e768c6169",
   "metadata": {},
   "source": [
    " ATM den basit işlemleri yapabileceğimiz bir uygulama yapalım. Bu işlemler bakiye sorgulama, para yatırma, para çekme ve çıkış işlemlerini yapmasını istiyoruz. 1 tuşuna basınca Bakiye Sorgulama 2 tuşuna basınca Para Yatırma 3 tuşuna basınca Para Çekme ve q tuşuna basınca Çıkış işlemlerini yapmasını istiyoruz. Başlangıç bakiyesi 1000 TL olsun örneğin. birde \"q\" çıkış tuşuna basana kadar sürekli hangi işlemi yapacağımızı sorsun, ayrıca belirttiğimiz sayıdan ve \"q\" dan başka brişey girerse kullanıcı hata versin ve tekrar sorsun işlemin ne olduğunu... "
   ]
  },
  {
   "cell_type": "code",
   "execution_count": null,
   "id": "17912fee-7063-4108-88e6-c471a7c4a1fc",
   "metadata": {},
   "outputs": [
    {
     "name": "stdout",
     "output_type": "stream",
     "text": [
      "\n",
      "<<<<<<<<<<<<<<<<<<< \n",
      "Welcome clarusway bank \n",
      ">>>>>>>>>>>>>>>>> \n",
      "\n",
      "İşlemler:\n",
      "\n",
      "Bakiye sorgulamak için 1'e basınız. \n",
      "Para yatırmak için 2'ye basınız. \n",
      "Para çekmek için 3'e basınız. \n",
      "Çıkmak için q'e basınız.\n"
     ]
    }
   ],
   "source": [
    "döngü = True\n",
    "money = 1000\n",
    "\n",
    "while döngü:\n",
    "    print(\"\\n<<<<<<<<<<<<<<<<<<<\",\n",
    "      \"\\nWelcome clarusway bank\",\"\\n>>>>>>>>>>>>>>>>>\",\n",
    "      \"\\n\\nİşlemler:\\n\\nBakiye sorgulamak için 1\\'e basınız.\",\n",
    "      \"\\nPara yatırmak için 2\\'ye basınız.\",\n",
    "      \"\\nPara çekmek için 3\\'e basınız.\",\n",
    "      \"\\nÇıkmak için q\\'e basınız.\")\n",
    "    işlem = input(str(\"Lütfen bir işlem yapınız?  :\"))\n",
    "    if işlem == \"1\" :\n",
    "        print(\"your money poor : \", money)\n",
    "    elif işlem == \"2\":\n",
    "        yatis = int(input('Yatirmak istediginiz miktari giriniz > '))\n",
    "        money = money + yatis   \n",
    "    elif işlem ==  \"3\":\n",
    "        cekim = int(input('Cekmek istediginiz miktari giriniz >'))\n",
    "        money = money - cekim\n",
    "    elif işlem.lower() == \"q\":\n",
    "        print(\"goodby\")\n",
    "        döngü = False    \n",
    "    else:\n",
    "        print('Lutfen girdiginiz islem numarasini kontrol ederek tekrar giris yapiniz.')\n",
    "    "
   ]
  },
  {
   "cell_type": "code",
   "execution_count": null,
   "id": "154985f9-28e3-46c5-8f72-b403679f056a",
   "metadata": {},
   "outputs": [],
   "source": [
    "dongu = True\n",
    "bakiye = 1000\n",
    "start = '\\033[94m'\n",
    "end = \"\\033[0;0m\"\n",
    "while dongu: \n",
    "    print('''\n",
    "    Welcome to Clarusway Bank\n",
    "    1. Bakiye Sorgulama\n",
    "    2. Para Yatirma\n",
    "    3. Para Cekme\n",
    "    Cikis icin 'q' tusuna basiniz.\n",
    "    ''')\n",
    "    islem = input('Yapmak istediginiz islemin numarasini giriniz > ')\n",
    "    print()\n",
    "    print()\n",
    "    print()\n",
    "    if islem == '1':\n",
    "        print(start + f\"Kalan bakiyeniz {bakiye} TL'dir.\" + end)\n",
    "    elif islem == '2':\n",
    "        yatis = int(input('Yatirmak istediginiz miktari giriniz > '))\n",
    "        bakiye = bakiye + yatis\n",
    "    elif islem == '3':\n",
    "        cekim = int(input('Cekmek istediginiz miktari giriniz >'))\n",
    "        bakiye = bakiye - cekim\n",
    "    elif islem.lower() == 'q':\n",
    "        print(start + 'Clarusway Bank Iyi Gunler Diler.' + end)\n",
    "        dongu = False\n",
    "    else:\n",
    "        print(start + 'Lutfen girdiginiz islem numarasini kontrol ederek tekrar giris yapiniz.' + end)"
   ]
  },
  {
   "cell_type": "code",
   "execution_count": null,
   "id": "4051045e-0c67-45d3-8b91-6d64c7779ac0",
   "metadata": {},
   "outputs": [],
   "source": []
  },
  {
   "cell_type": "code",
   "execution_count": null,
   "id": "5b1fefbc-97c1-4ecf-be7e-faad63e681c1",
   "metadata": {},
   "outputs": [],
   "source": []
  }
 ],
 "metadata": {
  "kernelspec": {
   "display_name": "Python 3",
   "language": "python",
   "name": "python3"
  },
  "language_info": {
   "codemirror_mode": {
    "name": "ipython",
    "version": 3
   },
   "file_extension": ".py",
   "mimetype": "text/x-python",
   "name": "python",
   "nbconvert_exporter": "python",
   "pygments_lexer": "ipython3",
   "version": "3.9.5"
  }
 },
 "nbformat": 4,
 "nbformat_minor": 5
}
