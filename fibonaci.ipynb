{
 "cells": [
  {
   "cell_type": "markdown",
   "id": "a784b725-cb70-4918-b884-9ac0df185f09",
   "metadata": {},
   "source": [
    "# FİBONACCİ"
   ]
  },
  {
   "cell_type": "markdown",
   "id": "00c4bfaa-463a-481b-95a5-980da8c014cd",
   "metadata": {},
   "source": [
    "Task : Create a list consisting of Fibonacci numbers from 1 to 55 using control flow statements.\n",
    "\n",
    "The desired output is like :\n",
    "\n",
    "fibonacci → [1, 1, 2, 3, 5, 8, 13, 21, 34, 55]"
   ]
  },
  {
   "cell_type": "code",
   "execution_count": 1,
   "id": "0b89737b-ddd6-4b28-b8f8-cd42c9f481cb",
   "metadata": {},
   "outputs": [
    {
     "name": "stdout",
     "output_type": "stream",
     "text": [
      "Fibonacci series is\n",
      "[0, 1, 1, 2, 3, 5, 8, 13, 21, 34, 55]\n"
     ]
    }
   ],
   "source": [
    "def fibo(num):\n",
    "    first = 0\n",
    "    second = 1\n",
    "    result = [0]\n",
    "    print('Fibonacci series is')\n",
    "    for i in range(0,num):\n",
    "        third = first + second\n",
    "        result.append(second)\n",
    "        first = second\n",
    "        second = third\n",
    "    print(result)\n",
    "    return\n",
    "fibo(10)"
   ]
  },
  {
   "cell_type": "code",
   "execution_count": null,
   "id": "a2e0e73b-99b9-408f-b7eb-1b9d13cea097",
   "metadata": {},
   "outputs": [],
   "source": []
  }
 ],
 "metadata": {
  "kernelspec": {
   "display_name": "Python 3",
   "language": "python",
   "name": "python3"
  },
  "language_info": {
   "codemirror_mode": {
    "name": "ipython",
    "version": 3
   },
   "file_extension": ".py",
   "mimetype": "text/x-python",
   "name": "python",
   "nbconvert_exporter": "python",
   "pygments_lexer": "ipython3",
   "version": "3.9.5"
  }
 },
 "nbformat": 4,
 "nbformat_minor": 5
}
