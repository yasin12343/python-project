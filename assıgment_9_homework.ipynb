{
 "cells": [
  {
   "cell_type": "code",
   "execution_count": 1,
   "id": "474104b5-63ad-457f-ae69-9165947d1d89",
   "metadata": {},
   "outputs": [
    {
     "name": "stdin",
     "output_type": "stream",
     "text": [
      "What is your name?  : yasin\n"
     ]
    },
    {
     "name": "stdout",
     "output_type": "stream",
     "text": [
      "Hello, Yasin! The password is : W@12\n"
     ]
    }
   ],
   "source": [
    "name = input(\"What is your name?  :\")\n",
    "name = name.strip().title()\n",
    "\n",
    "if name  in \"Yasin\":   #if name == \"Yasin\":\n",
    "    print(\"Hello, Yasin! The password is : W@12\")\n",
    "else:\n",
    "    print(\"Hello, {}! See you later.\".format(name))"
   ]
  },
  {
   "cell_type": "code",
   "execution_count": null,
   "id": "e8b00064-5f96-4611-ad22-df9eabc7a4a9",
   "metadata": {},
   "outputs": [],
   "source": []
  }
 ],
 "metadata": {
  "kernelspec": {
   "display_name": "Python 3",
   "language": "python",
   "name": "python3"
  },
  "language_info": {
   "codemirror_mode": {
    "name": "ipython",
    "version": 3
   },
   "file_extension": ".py",
   "mimetype": "text/x-python",
   "name": "python",
   "nbconvert_exporter": "python",
   "pygments_lexer": "ipython3",
   "version": "3.9.5"
  }
 },
 "nbformat": 4,
 "nbformat_minor": 5
}
