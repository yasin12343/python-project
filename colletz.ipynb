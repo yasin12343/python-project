{
 "cells": [
  {
   "cell_type": "markdown",
   "id": "b881131f-6679-4572-8a68-3564549db452",
   "metadata": {},
   "source": [
    "# Collatz dizisi uzunluğunu bulunuz.Collatz dizisinde bir sonraki sayıyı bulma kuralı şöyledir:\n",
    "# ni çift sayıysa: ni+1=ni/2\n",
    "# ni tek sayıysa: ni+1=3ni+1\n",
    "# ni=1ise dur.\n",
    "# Söz gelişi, 13 ile başlayan bir dizi aşağıdaki gibi olur.\n",
    "# 13, 40, 20, 10, 5, 16, 8, 4, 2, 1"
   ]
  },
  {
   "cell_type": "code",
   "execution_count": 5,
   "id": "3d0da1b1-2549-41df-a71b-f550b7b4c562",
   "metadata": {},
   "outputs": [
    {
     "data": {
      "text/plain": [
       "[11, 34, 17, 52, 26, 13, 40, 20, 10, 5, 16, 8, 4, 2, 1]"
      ]
     },
     "execution_count": 5,
     "metadata": {},
     "output_type": "execute_result"
    }
   ],
   "source": [
    "def collatz(num):\n",
    "    liste = [num]\n",
    "    while True:\n",
    "        if num % 2:\n",
    "            num = 3 * num + 1\n",
    "       \n",
    "        else:\n",
    "            num = num // 2\n",
    "        liste.append(num)\n",
    "        if num == 1:\n",
    "            break\n",
    "    return liste\n",
    "\n",
    "collatz(11)"
   ]
  },
  {
   "cell_type": "code",
   "execution_count": null,
   "id": "3dac160a-bc94-49c3-a7d1-4baff2473be7",
   "metadata": {},
   "outputs": [],
   "source": []
  },
  {
   "cell_type": "code",
   "execution_count": null,
   "id": "8d038d4a-84f4-4e5e-b438-5bb274360c24",
   "metadata": {},
   "outputs": [],
   "source": []
  },
  {
   "cell_type": "code",
   "execution_count": null,
   "id": "4010cb5c-15ce-4417-ae6d-02016800e147",
   "metadata": {},
   "outputs": [],
   "source": []
  },
  {
   "cell_type": "code",
   "execution_count": null,
   "id": "d8c8f3ec-9277-4577-98e7-880b3bf78065",
   "metadata": {},
   "outputs": [],
   "source": []
  },
  {
   "cell_type": "code",
   "execution_count": null,
   "id": "077b4df8-7dab-4fd7-84f6-2128b0e2a897",
   "metadata": {},
   "outputs": [],
   "source": []
  }
 ],
 "metadata": {
  "kernelspec": {
   "display_name": "Python 3",
   "language": "python",
   "name": "python3"
  },
  "language_info": {
   "codemirror_mode": {
    "name": "ipython",
    "version": 3
   },
   "file_extension": ".py",
   "mimetype": "text/x-python",
   "name": "python",
   "nbconvert_exporter": "python",
   "pygments_lexer": "ipython3",
   "version": "3.9.5"
  }
 },
 "nbformat": 4,
 "nbformat_minor": 5
}
