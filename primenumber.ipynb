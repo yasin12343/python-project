{
 "cells": [
  {
   "cell_type": "code",
   "execution_count": 2,
   "id": "3a3e38d7-ff9d-435a-99ef-4f73be559a99",
   "metadata": {},
   "outputs": [
    {
     "name": "stdin",
     "output_type": "stream",
     "text": [
      "enter a number:  12\n"
     ]
    },
    {
     "name": "stdout",
     "output_type": "stream",
     "text": [
      "-----------------------\n",
      "12 not prime number\n"
     ]
    }
   ],
   "source": [
    "count=0\n",
    " \n",
    "number=input('enter a number: ')\n",
    "for i in range(2,int(number)):\n",
    "      if(int(number)%i==0):\n",
    "            count+=1\n",
    "            break\n",
    "        \n",
    "if(count!=0):\n",
    "      print(\"-----------------------\")\n",
    "      print(number, \"not prime number\")\n",
    " \n",
    "else:\n",
    "      print(\"-----------------------\")\n",
    "      print(number, \"prime number\")"
   ]
  },
  {
   "cell_type": "code",
   "execution_count": null,
   "id": "1e312919-dbf4-4bb7-a56e-098d1c515637",
   "metadata": {},
   "outputs": [],
   "source": []
  }
 ],
 "metadata": {
  "kernelspec": {
   "display_name": "Python 3",
   "language": "python",
   "name": "python3"
  },
  "language_info": {
   "codemirror_mode": {
    "name": "ipython",
    "version": 3
   },
   "file_extension": ".py",
   "mimetype": "text/x-python",
   "name": "python",
   "nbconvert_exporter": "python",
   "pygments_lexer": "ipython3",
   "version": "3.9.5"
  }
 },
 "nbformat": 4,
 "nbformat_minor": 5
}
