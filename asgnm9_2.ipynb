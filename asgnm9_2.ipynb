{
 "cells": [
  {
   "cell_type": "code",
   "execution_count": null,
   "id": "e72994f4-873f-4c2a-939f-0311d928070d",
   "metadata": {},
   "outputs": [],
   "source": [
    "age = input(\"Are you a cigarette addict older than 75 years old?(Please you write True/False)  :\")\n",
    "age =age.strip().title()\n",
    "#print(age)\n",
    "chronic = input(\"Do you have a severe chronic disease?(Please you write True/False)  :\")\n",
    "chronic = chronic.strip().title()\n",
    "#print(chronic)\n",
    "immune = input(\"Is your immune system too weak?(Please you write True/False)  :\")\n",
    "immune = immune.strip().title()\n",
    "#print(immune)\n",
    "if (age or chronic or immune) == \"True\":\n",
    "    print(\"You are in risky group  :\",\"True\")\n",
    "else:\n",
    "    print(\"You are not in risky group  :\", \"False\")"
   ]
  },
  {
   "cell_type": "code",
   "execution_count": null,
   "id": "7a803adb-b65d-4cc8-bec0-4d1355674f73",
   "metadata": {},
   "outputs": [],
   "source": []
  }
 ],
 "metadata": {
  "kernelspec": {
   "display_name": "Python 3",
   "language": "python",
   "name": "python3"
  },
  "language_info": {
   "codemirror_mode": {
    "name": "ipython",
    "version": 3
   },
   "file_extension": ".py",
   "mimetype": "text/x-python",
   "name": "python",
   "nbconvert_exporter": "python",
   "pygments_lexer": "ipython3",
   "version": "3.9.5"
  }
 },
 "nbformat": 4,
 "nbformat_minor": 5
}
