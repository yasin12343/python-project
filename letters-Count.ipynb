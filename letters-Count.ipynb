{
 "cells": [
  {
   "cell_type": "markdown",
   "id": "6447fa3a-b7fd-4fd5-b600-6a60e7b973cb",
   "metadata": {},
   "source": [
    "Task:\n",
    "\n",
    "Count the number of each letter in a sentence.\n",
    "The department you work for undertook a project construction that makes word / text analysis. You are asked to calculate the number of letters or any chars in the sentences entered under this project.\n",
    "Write a Python program that;\n",
    "takes a sentence from the user,\n",
    "counts the number of each letter of the sentence,\n",
    "collects the letters/chars as a key and the counted numbers as a value in a dictionary.\n",
    "\n",
    "\n",
    "Bir cümledeki her harfin sayısını sayın. Çalıştığınız departman kelime/metin analizi yapan bir proje yapımını üstlenmiştir. Bu proje kapsamında girilen cümlelerdeki harf veya karakter sayısını hesaplamanız istenmektedir. Bir Python programı yazın; kullanıcıdan bir cümle alır, cümlenin her harfinin sayısını sayar, sözlükte harfleri/karakterleri anahtar, sayılan sayıları değer olarak toplar.\n",
    "\n",
    "Examples\n",
    "Sample inputs\tOutputs\n",
    "hippo runs to us!\t\n",
    "{'s': 2, 'r': 1, 't': 1, 'h': 1, 'n': 1, \n",
    "'i': 1, 'u': 2, 'o': 2, 'p': 2, ' ': 3, '!': 1}\n"
   ]
  },
  {
   "cell_type": "code",
   "execution_count": 7,
   "id": "603a394f-023d-4981-a528-e80378f8b577",
   "metadata": {},
   "outputs": [
    {
     "name": "stdout",
     "output_type": "stream",
     "text": [
      "{'h': 1, 'i': 1, 'p': 2, 'o': 2, ' ': 3, 'r': 1, 'u': 2, 'n': 1, 's': 2, 't': 1, '!': 1}\n"
     ]
    }
   ],
   "source": [
    "def letter(str1):\n",
    "    word = {}\n",
    "    for n in str1:\n",
    "        keys = word.keys()\n",
    "        if n in keys:\n",
    "            word[n] += 1\n",
    "        else:\n",
    "            word[n] = 1\n",
    "    return word\n",
    "print(letter('hippo runs to us!'))"
   ]
  },
  {
   "cell_type": "code",
   "execution_count": null,
   "id": "b26abc33-6f73-4ee8-91f1-5bcb75b8f2bf",
   "metadata": {},
   "outputs": [],
   "source": []
  },
  {
   "cell_type": "code",
   "execution_count": null,
   "id": "6138b843-e55b-403b-8971-d1957707108c",
   "metadata": {},
   "outputs": [],
   "source": []
  },
  {
   "cell_type": "code",
   "execution_count": null,
   "id": "16cc8e44-b4fb-49d4-a27a-2ca779c183ca",
   "metadata": {},
   "outputs": [],
   "source": []
  },
  {
   "cell_type": "code",
   "execution_count": null,
   "id": "16976996-aad0-4b71-8e59-fa3ddd91d235",
   "metadata": {},
   "outputs": [],
   "source": []
  }
 ],
 "metadata": {
  "kernelspec": {
   "display_name": "Python 3",
   "language": "python",
   "name": "python3"
  },
  "language_info": {
   "codemirror_mode": {
    "name": "ipython",
    "version": 3
   },
   "file_extension": ".py",
   "mimetype": "text/x-python",
   "name": "python",
   "nbconvert_exporter": "python",
   "pygments_lexer": "ipython3",
   "version": "3.9.5"
  }
 },
 "nbformat": 4,
 "nbformat_minor": 5
}
